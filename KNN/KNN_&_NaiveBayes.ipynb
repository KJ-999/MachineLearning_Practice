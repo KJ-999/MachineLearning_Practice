{
 "cells": [
  {
   "cell_type": "code",
   "execution_count": 54,
   "metadata": {
    "_cell_guid": "b1076dfc-b9ad-4769-8c92-a6c4dae69d19",
    "_uuid": "8f2839f25d086af736a60e9eeb907d3b93b6e0e5",
    "execution": {
     "iopub.execute_input": "2023-05-22T14:59:19.214031Z",
     "iopub.status.busy": "2023-05-22T14:59:19.213618Z",
     "iopub.status.idle": "2023-05-22T14:59:19.223391Z",
     "shell.execute_reply": "2023-05-22T14:59:19.222263Z",
     "shell.execute_reply.started": "2023-05-22T14:59:19.213996Z"
    },
    "id": "aNHiIhZMrPPy"
   },
   "outputs": [],
   "source": [
    "import numpy as np\n",
    "import pandas as pd"
   ]
  },
  {
   "cell_type": "code",
   "execution_count": 55,
   "metadata": {
    "colab": {
     "base_uri": "https://localhost:8080/",
     "height": 273
    },
    "execution": {
     "iopub.execute_input": "2023-05-22T14:59:43.544148Z",
     "iopub.status.busy": "2023-05-22T14:59:43.543788Z",
     "iopub.status.idle": "2023-05-22T14:59:43.620734Z",
     "shell.execute_reply": "2023-05-22T14:59:43.619964Z",
     "shell.execute_reply.started": "2023-05-22T14:59:43.544119Z"
    },
    "id": "Iu-fJ7rVrPP2",
    "outputId": "f2fa5e54-c827-4d56-81eb-317eab28b666"
   },
   "outputs": [
    {
     "data": {
      "text/html": [
       "<div>\n",
       "<style scoped>\n",
       "    .dataframe tbody tr th:only-of-type {\n",
       "        vertical-align: middle;\n",
       "    }\n",
       "\n",
       "    .dataframe tbody tr th {\n",
       "        vertical-align: top;\n",
       "    }\n",
       "\n",
       "    .dataframe thead th {\n",
       "        text-align: right;\n",
       "    }\n",
       "</style>\n",
       "<table border=\"1\" class=\"dataframe\">\n",
       "  <thead>\n",
       "    <tr style=\"text-align: right;\">\n",
       "      <th></th>\n",
       "      <th>id</th>\n",
       "      <th>diagnosis</th>\n",
       "      <th>radius_mean</th>\n",
       "      <th>texture_mean</th>\n",
       "      <th>perimeter_mean</th>\n",
       "      <th>area_mean</th>\n",
       "      <th>smoothness_mean</th>\n",
       "      <th>compactness_mean</th>\n",
       "      <th>concavity_mean</th>\n",
       "      <th>concave points_mean</th>\n",
       "      <th>...</th>\n",
       "      <th>texture_worst</th>\n",
       "      <th>perimeter_worst</th>\n",
       "      <th>area_worst</th>\n",
       "      <th>smoothness_worst</th>\n",
       "      <th>compactness_worst</th>\n",
       "      <th>concavity_worst</th>\n",
       "      <th>concave points_worst</th>\n",
       "      <th>symmetry_worst</th>\n",
       "      <th>fractal_dimension_worst</th>\n",
       "      <th>Unnamed: 32</th>\n",
       "    </tr>\n",
       "  </thead>\n",
       "  <tbody>\n",
       "    <tr>\n",
       "      <th>0</th>\n",
       "      <td>842302</td>\n",
       "      <td>M</td>\n",
       "      <td>17.99</td>\n",
       "      <td>10.38</td>\n",
       "      <td>122.80</td>\n",
       "      <td>1001.0</td>\n",
       "      <td>0.11840</td>\n",
       "      <td>0.27760</td>\n",
       "      <td>0.3001</td>\n",
       "      <td>0.14710</td>\n",
       "      <td>...</td>\n",
       "      <td>17.33</td>\n",
       "      <td>184.60</td>\n",
       "      <td>2019.0</td>\n",
       "      <td>0.1622</td>\n",
       "      <td>0.6656</td>\n",
       "      <td>0.7119</td>\n",
       "      <td>0.2654</td>\n",
       "      <td>0.4601</td>\n",
       "      <td>0.11890</td>\n",
       "      <td>NaN</td>\n",
       "    </tr>\n",
       "    <tr>\n",
       "      <th>1</th>\n",
       "      <td>842517</td>\n",
       "      <td>M</td>\n",
       "      <td>20.57</td>\n",
       "      <td>17.77</td>\n",
       "      <td>132.90</td>\n",
       "      <td>1326.0</td>\n",
       "      <td>0.08474</td>\n",
       "      <td>0.07864</td>\n",
       "      <td>0.0869</td>\n",
       "      <td>0.07017</td>\n",
       "      <td>...</td>\n",
       "      <td>23.41</td>\n",
       "      <td>158.80</td>\n",
       "      <td>1956.0</td>\n",
       "      <td>0.1238</td>\n",
       "      <td>0.1866</td>\n",
       "      <td>0.2416</td>\n",
       "      <td>0.1860</td>\n",
       "      <td>0.2750</td>\n",
       "      <td>0.08902</td>\n",
       "      <td>NaN</td>\n",
       "    </tr>\n",
       "    <tr>\n",
       "      <th>2</th>\n",
       "      <td>84300903</td>\n",
       "      <td>M</td>\n",
       "      <td>19.69</td>\n",
       "      <td>21.25</td>\n",
       "      <td>130.00</td>\n",
       "      <td>1203.0</td>\n",
       "      <td>0.10960</td>\n",
       "      <td>0.15990</td>\n",
       "      <td>0.1974</td>\n",
       "      <td>0.12790</td>\n",
       "      <td>...</td>\n",
       "      <td>25.53</td>\n",
       "      <td>152.50</td>\n",
       "      <td>1709.0</td>\n",
       "      <td>0.1444</td>\n",
       "      <td>0.4245</td>\n",
       "      <td>0.4504</td>\n",
       "      <td>0.2430</td>\n",
       "      <td>0.3613</td>\n",
       "      <td>0.08758</td>\n",
       "      <td>NaN</td>\n",
       "    </tr>\n",
       "    <tr>\n",
       "      <th>3</th>\n",
       "      <td>84348301</td>\n",
       "      <td>M</td>\n",
       "      <td>11.42</td>\n",
       "      <td>20.38</td>\n",
       "      <td>77.58</td>\n",
       "      <td>386.1</td>\n",
       "      <td>0.14250</td>\n",
       "      <td>0.28390</td>\n",
       "      <td>0.2414</td>\n",
       "      <td>0.10520</td>\n",
       "      <td>...</td>\n",
       "      <td>26.50</td>\n",
       "      <td>98.87</td>\n",
       "      <td>567.7</td>\n",
       "      <td>0.2098</td>\n",
       "      <td>0.8663</td>\n",
       "      <td>0.6869</td>\n",
       "      <td>0.2575</td>\n",
       "      <td>0.6638</td>\n",
       "      <td>0.17300</td>\n",
       "      <td>NaN</td>\n",
       "    </tr>\n",
       "    <tr>\n",
       "      <th>4</th>\n",
       "      <td>84358402</td>\n",
       "      <td>M</td>\n",
       "      <td>20.29</td>\n",
       "      <td>14.34</td>\n",
       "      <td>135.10</td>\n",
       "      <td>1297.0</td>\n",
       "      <td>0.10030</td>\n",
       "      <td>0.13280</td>\n",
       "      <td>0.1980</td>\n",
       "      <td>0.10430</td>\n",
       "      <td>...</td>\n",
       "      <td>16.67</td>\n",
       "      <td>152.20</td>\n",
       "      <td>1575.0</td>\n",
       "      <td>0.1374</td>\n",
       "      <td>0.2050</td>\n",
       "      <td>0.4000</td>\n",
       "      <td>0.1625</td>\n",
       "      <td>0.2364</td>\n",
       "      <td>0.07678</td>\n",
       "      <td>NaN</td>\n",
       "    </tr>\n",
       "  </tbody>\n",
       "</table>\n",
       "<p>5 rows × 33 columns</p>\n",
       "</div>"
      ],
      "text/plain": [
       "         id diagnosis  radius_mean  texture_mean  perimeter_mean  area_mean  \\\n",
       "0    842302         M        17.99         10.38          122.80     1001.0   \n",
       "1    842517         M        20.57         17.77          132.90     1326.0   \n",
       "2  84300903         M        19.69         21.25          130.00     1203.0   \n",
       "3  84348301         M        11.42         20.38           77.58      386.1   \n",
       "4  84358402         M        20.29         14.34          135.10     1297.0   \n",
       "\n",
       "   smoothness_mean  compactness_mean  concavity_mean  concave points_mean  \\\n",
       "0          0.11840           0.27760          0.3001              0.14710   \n",
       "1          0.08474           0.07864          0.0869              0.07017   \n",
       "2          0.10960           0.15990          0.1974              0.12790   \n",
       "3          0.14250           0.28390          0.2414              0.10520   \n",
       "4          0.10030           0.13280          0.1980              0.10430   \n",
       "\n",
       "   ...  texture_worst  perimeter_worst  area_worst  smoothness_worst  \\\n",
       "0  ...          17.33           184.60      2019.0            0.1622   \n",
       "1  ...          23.41           158.80      1956.0            0.1238   \n",
       "2  ...          25.53           152.50      1709.0            0.1444   \n",
       "3  ...          26.50            98.87       567.7            0.2098   \n",
       "4  ...          16.67           152.20      1575.0            0.1374   \n",
       "\n",
       "   compactness_worst  concavity_worst  concave points_worst  symmetry_worst  \\\n",
       "0             0.6656           0.7119                0.2654          0.4601   \n",
       "1             0.1866           0.2416                0.1860          0.2750   \n",
       "2             0.4245           0.4504                0.2430          0.3613   \n",
       "3             0.8663           0.6869                0.2575          0.6638   \n",
       "4             0.2050           0.4000                0.1625          0.2364   \n",
       "\n",
       "   fractal_dimension_worst  Unnamed: 32  \n",
       "0                  0.11890          NaN  \n",
       "1                  0.08902          NaN  \n",
       "2                  0.08758          NaN  \n",
       "3                  0.17300          NaN  \n",
       "4                  0.07678          NaN  \n",
       "\n",
       "[5 rows x 33 columns]"
      ]
     },
     "execution_count": 55,
     "metadata": {},
     "output_type": "execute_result"
    }
   ],
   "source": [
    "df = pd.read_csv('C:/Users/ADMIN/Downloads/data1.csv')\n",
    "df.head()"
   ]
  },
  {
   "cell_type": "markdown",
   "metadata": {
    "id": "dD_0UtQusdQP"
   },
   "source": [
    "This is the Breast Cancer Dataset with 569 rows and 33 columns.\n",
    "We remove the id and Unnamed: 32 columns as they are not useful for our analysis."
   ]
  },
  {
   "cell_type": "code",
   "execution_count": 56,
   "metadata": {
    "colab": {
     "base_uri": "https://localhost:8080/",
     "height": 273
    },
    "execution": {
     "iopub.execute_input": "2023-05-22T15:01:01.741809Z",
     "iopub.status.busy": "2023-05-22T15:01:01.741396Z",
     "iopub.status.idle": "2023-05-22T15:01:01.768924Z",
     "shell.execute_reply": "2023-05-22T15:01:01.76814Z",
     "shell.execute_reply.started": "2023-05-22T15:01:01.741775Z"
    },
    "id": "HVKRUMo-rPP3",
    "outputId": "54082bd7-5407-4594-945d-e3169a314bde",
    "scrolled": true
   },
   "outputs": [
    {
     "data": {
      "text/html": [
       "<div>\n",
       "<style scoped>\n",
       "    .dataframe tbody tr th:only-of-type {\n",
       "        vertical-align: middle;\n",
       "    }\n",
       "\n",
       "    .dataframe tbody tr th {\n",
       "        vertical-align: top;\n",
       "    }\n",
       "\n",
       "    .dataframe thead th {\n",
       "        text-align: right;\n",
       "    }\n",
       "</style>\n",
       "<table border=\"1\" class=\"dataframe\">\n",
       "  <thead>\n",
       "    <tr style=\"text-align: right;\">\n",
       "      <th></th>\n",
       "      <th>diagnosis</th>\n",
       "      <th>radius_mean</th>\n",
       "      <th>texture_mean</th>\n",
       "      <th>perimeter_mean</th>\n",
       "      <th>area_mean</th>\n",
       "      <th>smoothness_mean</th>\n",
       "      <th>compactness_mean</th>\n",
       "      <th>concavity_mean</th>\n",
       "      <th>concave points_mean</th>\n",
       "      <th>symmetry_mean</th>\n",
       "      <th>...</th>\n",
       "      <th>radius_worst</th>\n",
       "      <th>texture_worst</th>\n",
       "      <th>perimeter_worst</th>\n",
       "      <th>area_worst</th>\n",
       "      <th>smoothness_worst</th>\n",
       "      <th>compactness_worst</th>\n",
       "      <th>concavity_worst</th>\n",
       "      <th>concave points_worst</th>\n",
       "      <th>symmetry_worst</th>\n",
       "      <th>fractal_dimension_worst</th>\n",
       "    </tr>\n",
       "  </thead>\n",
       "  <tbody>\n",
       "    <tr>\n",
       "      <th>0</th>\n",
       "      <td>M</td>\n",
       "      <td>17.99</td>\n",
       "      <td>10.38</td>\n",
       "      <td>122.80</td>\n",
       "      <td>1001.0</td>\n",
       "      <td>0.11840</td>\n",
       "      <td>0.27760</td>\n",
       "      <td>0.3001</td>\n",
       "      <td>0.14710</td>\n",
       "      <td>0.2419</td>\n",
       "      <td>...</td>\n",
       "      <td>25.38</td>\n",
       "      <td>17.33</td>\n",
       "      <td>184.60</td>\n",
       "      <td>2019.0</td>\n",
       "      <td>0.1622</td>\n",
       "      <td>0.6656</td>\n",
       "      <td>0.7119</td>\n",
       "      <td>0.2654</td>\n",
       "      <td>0.4601</td>\n",
       "      <td>0.11890</td>\n",
       "    </tr>\n",
       "    <tr>\n",
       "      <th>1</th>\n",
       "      <td>M</td>\n",
       "      <td>20.57</td>\n",
       "      <td>17.77</td>\n",
       "      <td>132.90</td>\n",
       "      <td>1326.0</td>\n",
       "      <td>0.08474</td>\n",
       "      <td>0.07864</td>\n",
       "      <td>0.0869</td>\n",
       "      <td>0.07017</td>\n",
       "      <td>0.1812</td>\n",
       "      <td>...</td>\n",
       "      <td>24.99</td>\n",
       "      <td>23.41</td>\n",
       "      <td>158.80</td>\n",
       "      <td>1956.0</td>\n",
       "      <td>0.1238</td>\n",
       "      <td>0.1866</td>\n",
       "      <td>0.2416</td>\n",
       "      <td>0.1860</td>\n",
       "      <td>0.2750</td>\n",
       "      <td>0.08902</td>\n",
       "    </tr>\n",
       "    <tr>\n",
       "      <th>2</th>\n",
       "      <td>M</td>\n",
       "      <td>19.69</td>\n",
       "      <td>21.25</td>\n",
       "      <td>130.00</td>\n",
       "      <td>1203.0</td>\n",
       "      <td>0.10960</td>\n",
       "      <td>0.15990</td>\n",
       "      <td>0.1974</td>\n",
       "      <td>0.12790</td>\n",
       "      <td>0.2069</td>\n",
       "      <td>...</td>\n",
       "      <td>23.57</td>\n",
       "      <td>25.53</td>\n",
       "      <td>152.50</td>\n",
       "      <td>1709.0</td>\n",
       "      <td>0.1444</td>\n",
       "      <td>0.4245</td>\n",
       "      <td>0.4504</td>\n",
       "      <td>0.2430</td>\n",
       "      <td>0.3613</td>\n",
       "      <td>0.08758</td>\n",
       "    </tr>\n",
       "    <tr>\n",
       "      <th>3</th>\n",
       "      <td>M</td>\n",
       "      <td>11.42</td>\n",
       "      <td>20.38</td>\n",
       "      <td>77.58</td>\n",
       "      <td>386.1</td>\n",
       "      <td>0.14250</td>\n",
       "      <td>0.28390</td>\n",
       "      <td>0.2414</td>\n",
       "      <td>0.10520</td>\n",
       "      <td>0.2597</td>\n",
       "      <td>...</td>\n",
       "      <td>14.91</td>\n",
       "      <td>26.50</td>\n",
       "      <td>98.87</td>\n",
       "      <td>567.7</td>\n",
       "      <td>0.2098</td>\n",
       "      <td>0.8663</td>\n",
       "      <td>0.6869</td>\n",
       "      <td>0.2575</td>\n",
       "      <td>0.6638</td>\n",
       "      <td>0.17300</td>\n",
       "    </tr>\n",
       "    <tr>\n",
       "      <th>4</th>\n",
       "      <td>M</td>\n",
       "      <td>20.29</td>\n",
       "      <td>14.34</td>\n",
       "      <td>135.10</td>\n",
       "      <td>1297.0</td>\n",
       "      <td>0.10030</td>\n",
       "      <td>0.13280</td>\n",
       "      <td>0.1980</td>\n",
       "      <td>0.10430</td>\n",
       "      <td>0.1809</td>\n",
       "      <td>...</td>\n",
       "      <td>22.54</td>\n",
       "      <td>16.67</td>\n",
       "      <td>152.20</td>\n",
       "      <td>1575.0</td>\n",
       "      <td>0.1374</td>\n",
       "      <td>0.2050</td>\n",
       "      <td>0.4000</td>\n",
       "      <td>0.1625</td>\n",
       "      <td>0.2364</td>\n",
       "      <td>0.07678</td>\n",
       "    </tr>\n",
       "  </tbody>\n",
       "</table>\n",
       "<p>5 rows × 31 columns</p>\n",
       "</div>"
      ],
      "text/plain": [
       "  diagnosis  radius_mean  texture_mean  perimeter_mean  area_mean  \\\n",
       "0         M        17.99         10.38          122.80     1001.0   \n",
       "1         M        20.57         17.77          132.90     1326.0   \n",
       "2         M        19.69         21.25          130.00     1203.0   \n",
       "3         M        11.42         20.38           77.58      386.1   \n",
       "4         M        20.29         14.34          135.10     1297.0   \n",
       "\n",
       "   smoothness_mean  compactness_mean  concavity_mean  concave points_mean  \\\n",
       "0          0.11840           0.27760          0.3001              0.14710   \n",
       "1          0.08474           0.07864          0.0869              0.07017   \n",
       "2          0.10960           0.15990          0.1974              0.12790   \n",
       "3          0.14250           0.28390          0.2414              0.10520   \n",
       "4          0.10030           0.13280          0.1980              0.10430   \n",
       "\n",
       "   symmetry_mean  ...  radius_worst  texture_worst  perimeter_worst  \\\n",
       "0         0.2419  ...         25.38          17.33           184.60   \n",
       "1         0.1812  ...         24.99          23.41           158.80   \n",
       "2         0.2069  ...         23.57          25.53           152.50   \n",
       "3         0.2597  ...         14.91          26.50            98.87   \n",
       "4         0.1809  ...         22.54          16.67           152.20   \n",
       "\n",
       "   area_worst  smoothness_worst  compactness_worst  concavity_worst  \\\n",
       "0      2019.0            0.1622             0.6656           0.7119   \n",
       "1      1956.0            0.1238             0.1866           0.2416   \n",
       "2      1709.0            0.1444             0.4245           0.4504   \n",
       "3       567.7            0.2098             0.8663           0.6869   \n",
       "4      1575.0            0.1374             0.2050           0.4000   \n",
       "\n",
       "   concave points_worst  symmetry_worst  fractal_dimension_worst  \n",
       "0                0.2654          0.4601                  0.11890  \n",
       "1                0.1860          0.2750                  0.08902  \n",
       "2                0.2430          0.3613                  0.08758  \n",
       "3                0.2575          0.6638                  0.17300  \n",
       "4                0.1625          0.2364                  0.07678  \n",
       "\n",
       "[5 rows x 31 columns]"
      ]
     },
     "execution_count": 56,
     "metadata": {},
     "output_type": "execute_result"
    }
   ],
   "source": [
    "df.drop(columns=['id','Unnamed: 32'],inplace=True)\n",
    "df.head()"
   ]
  },
  {
   "cell_type": "code",
   "execution_count": 57,
   "metadata": {
    "colab": {
     "base_uri": "https://localhost:8080/",
     "height": 367
    },
    "id": "pUmqKmvEwVrV",
    "outputId": "f5be370f-fbf6-45ed-d5ff-52ec1bc002d7"
   },
   "outputs": [
    {
     "data": {
      "text/html": [
       "<div>\n",
       "<style scoped>\n",
       "    .dataframe tbody tr th:only-of-type {\n",
       "        vertical-align: middle;\n",
       "    }\n",
       "\n",
       "    .dataframe tbody tr th {\n",
       "        vertical-align: top;\n",
       "    }\n",
       "\n",
       "    .dataframe thead th {\n",
       "        text-align: right;\n",
       "    }\n",
       "</style>\n",
       "<table border=\"1\" class=\"dataframe\">\n",
       "  <thead>\n",
       "    <tr style=\"text-align: right;\">\n",
       "      <th></th>\n",
       "      <th>radius_mean</th>\n",
       "      <th>texture_mean</th>\n",
       "      <th>perimeter_mean</th>\n",
       "      <th>area_mean</th>\n",
       "      <th>smoothness_mean</th>\n",
       "      <th>compactness_mean</th>\n",
       "      <th>concavity_mean</th>\n",
       "      <th>concave points_mean</th>\n",
       "      <th>symmetry_mean</th>\n",
       "      <th>fractal_dimension_mean</th>\n",
       "      <th>...</th>\n",
       "      <th>radius_worst</th>\n",
       "      <th>texture_worst</th>\n",
       "      <th>perimeter_worst</th>\n",
       "      <th>area_worst</th>\n",
       "      <th>smoothness_worst</th>\n",
       "      <th>compactness_worst</th>\n",
       "      <th>concavity_worst</th>\n",
       "      <th>concave points_worst</th>\n",
       "      <th>symmetry_worst</th>\n",
       "      <th>fractal_dimension_worst</th>\n",
       "    </tr>\n",
       "  </thead>\n",
       "  <tbody>\n",
       "    <tr>\n",
       "      <th>count</th>\n",
       "      <td>569.000000</td>\n",
       "      <td>569.000000</td>\n",
       "      <td>569.000000</td>\n",
       "      <td>569.000000</td>\n",
       "      <td>569.000000</td>\n",
       "      <td>569.000000</td>\n",
       "      <td>569.000000</td>\n",
       "      <td>569.000000</td>\n",
       "      <td>569.000000</td>\n",
       "      <td>569.000000</td>\n",
       "      <td>...</td>\n",
       "      <td>569.000000</td>\n",
       "      <td>569.000000</td>\n",
       "      <td>569.000000</td>\n",
       "      <td>569.000000</td>\n",
       "      <td>569.000000</td>\n",
       "      <td>569.000000</td>\n",
       "      <td>569.000000</td>\n",
       "      <td>569.000000</td>\n",
       "      <td>569.000000</td>\n",
       "      <td>569.000000</td>\n",
       "    </tr>\n",
       "    <tr>\n",
       "      <th>mean</th>\n",
       "      <td>14.127292</td>\n",
       "      <td>19.289649</td>\n",
       "      <td>91.969033</td>\n",
       "      <td>654.889104</td>\n",
       "      <td>0.096360</td>\n",
       "      <td>0.104341</td>\n",
       "      <td>0.088799</td>\n",
       "      <td>0.048919</td>\n",
       "      <td>0.181162</td>\n",
       "      <td>0.062798</td>\n",
       "      <td>...</td>\n",
       "      <td>16.269190</td>\n",
       "      <td>25.677223</td>\n",
       "      <td>107.261213</td>\n",
       "      <td>880.583128</td>\n",
       "      <td>0.132369</td>\n",
       "      <td>0.254265</td>\n",
       "      <td>0.272188</td>\n",
       "      <td>0.114606</td>\n",
       "      <td>0.290076</td>\n",
       "      <td>0.083946</td>\n",
       "    </tr>\n",
       "    <tr>\n",
       "      <th>std</th>\n",
       "      <td>3.524049</td>\n",
       "      <td>4.301036</td>\n",
       "      <td>24.298981</td>\n",
       "      <td>351.914129</td>\n",
       "      <td>0.014064</td>\n",
       "      <td>0.052813</td>\n",
       "      <td>0.079720</td>\n",
       "      <td>0.038803</td>\n",
       "      <td>0.027414</td>\n",
       "      <td>0.007060</td>\n",
       "      <td>...</td>\n",
       "      <td>4.833242</td>\n",
       "      <td>6.146258</td>\n",
       "      <td>33.602542</td>\n",
       "      <td>569.356993</td>\n",
       "      <td>0.022832</td>\n",
       "      <td>0.157336</td>\n",
       "      <td>0.208624</td>\n",
       "      <td>0.065732</td>\n",
       "      <td>0.061867</td>\n",
       "      <td>0.018061</td>\n",
       "    </tr>\n",
       "    <tr>\n",
       "      <th>min</th>\n",
       "      <td>6.981000</td>\n",
       "      <td>9.710000</td>\n",
       "      <td>43.790000</td>\n",
       "      <td>143.500000</td>\n",
       "      <td>0.052630</td>\n",
       "      <td>0.019380</td>\n",
       "      <td>0.000000</td>\n",
       "      <td>0.000000</td>\n",
       "      <td>0.106000</td>\n",
       "      <td>0.049960</td>\n",
       "      <td>...</td>\n",
       "      <td>7.930000</td>\n",
       "      <td>12.020000</td>\n",
       "      <td>50.410000</td>\n",
       "      <td>185.200000</td>\n",
       "      <td>0.071170</td>\n",
       "      <td>0.027290</td>\n",
       "      <td>0.000000</td>\n",
       "      <td>0.000000</td>\n",
       "      <td>0.156500</td>\n",
       "      <td>0.055040</td>\n",
       "    </tr>\n",
       "    <tr>\n",
       "      <th>25%</th>\n",
       "      <td>11.700000</td>\n",
       "      <td>16.170000</td>\n",
       "      <td>75.170000</td>\n",
       "      <td>420.300000</td>\n",
       "      <td>0.086370</td>\n",
       "      <td>0.064920</td>\n",
       "      <td>0.029560</td>\n",
       "      <td>0.020310</td>\n",
       "      <td>0.161900</td>\n",
       "      <td>0.057700</td>\n",
       "      <td>...</td>\n",
       "      <td>13.010000</td>\n",
       "      <td>21.080000</td>\n",
       "      <td>84.110000</td>\n",
       "      <td>515.300000</td>\n",
       "      <td>0.116600</td>\n",
       "      <td>0.147200</td>\n",
       "      <td>0.114500</td>\n",
       "      <td>0.064930</td>\n",
       "      <td>0.250400</td>\n",
       "      <td>0.071460</td>\n",
       "    </tr>\n",
       "    <tr>\n",
       "      <th>50%</th>\n",
       "      <td>13.370000</td>\n",
       "      <td>18.840000</td>\n",
       "      <td>86.240000</td>\n",
       "      <td>551.100000</td>\n",
       "      <td>0.095870</td>\n",
       "      <td>0.092630</td>\n",
       "      <td>0.061540</td>\n",
       "      <td>0.033500</td>\n",
       "      <td>0.179200</td>\n",
       "      <td>0.061540</td>\n",
       "      <td>...</td>\n",
       "      <td>14.970000</td>\n",
       "      <td>25.410000</td>\n",
       "      <td>97.660000</td>\n",
       "      <td>686.500000</td>\n",
       "      <td>0.131300</td>\n",
       "      <td>0.211900</td>\n",
       "      <td>0.226700</td>\n",
       "      <td>0.099930</td>\n",
       "      <td>0.282200</td>\n",
       "      <td>0.080040</td>\n",
       "    </tr>\n",
       "    <tr>\n",
       "      <th>75%</th>\n",
       "      <td>15.780000</td>\n",
       "      <td>21.800000</td>\n",
       "      <td>104.100000</td>\n",
       "      <td>782.700000</td>\n",
       "      <td>0.105300</td>\n",
       "      <td>0.130400</td>\n",
       "      <td>0.130700</td>\n",
       "      <td>0.074000</td>\n",
       "      <td>0.195700</td>\n",
       "      <td>0.066120</td>\n",
       "      <td>...</td>\n",
       "      <td>18.790000</td>\n",
       "      <td>29.720000</td>\n",
       "      <td>125.400000</td>\n",
       "      <td>1084.000000</td>\n",
       "      <td>0.146000</td>\n",
       "      <td>0.339100</td>\n",
       "      <td>0.382900</td>\n",
       "      <td>0.161400</td>\n",
       "      <td>0.317900</td>\n",
       "      <td>0.092080</td>\n",
       "    </tr>\n",
       "    <tr>\n",
       "      <th>max</th>\n",
       "      <td>28.110000</td>\n",
       "      <td>39.280000</td>\n",
       "      <td>188.500000</td>\n",
       "      <td>2501.000000</td>\n",
       "      <td>0.163400</td>\n",
       "      <td>0.345400</td>\n",
       "      <td>0.426800</td>\n",
       "      <td>0.201200</td>\n",
       "      <td>0.304000</td>\n",
       "      <td>0.097440</td>\n",
       "      <td>...</td>\n",
       "      <td>36.040000</td>\n",
       "      <td>49.540000</td>\n",
       "      <td>251.200000</td>\n",
       "      <td>4254.000000</td>\n",
       "      <td>0.222600</td>\n",
       "      <td>1.058000</td>\n",
       "      <td>1.252000</td>\n",
       "      <td>0.291000</td>\n",
       "      <td>0.663800</td>\n",
       "      <td>0.207500</td>\n",
       "    </tr>\n",
       "  </tbody>\n",
       "</table>\n",
       "<p>8 rows × 30 columns</p>\n",
       "</div>"
      ],
      "text/plain": [
       "       radius_mean  texture_mean  perimeter_mean    area_mean  \\\n",
       "count   569.000000    569.000000      569.000000   569.000000   \n",
       "mean     14.127292     19.289649       91.969033   654.889104   \n",
       "std       3.524049      4.301036       24.298981   351.914129   \n",
       "min       6.981000      9.710000       43.790000   143.500000   \n",
       "25%      11.700000     16.170000       75.170000   420.300000   \n",
       "50%      13.370000     18.840000       86.240000   551.100000   \n",
       "75%      15.780000     21.800000      104.100000   782.700000   \n",
       "max      28.110000     39.280000      188.500000  2501.000000   \n",
       "\n",
       "       smoothness_mean  compactness_mean  concavity_mean  concave points_mean  \\\n",
       "count       569.000000        569.000000      569.000000           569.000000   \n",
       "mean          0.096360          0.104341        0.088799             0.048919   \n",
       "std           0.014064          0.052813        0.079720             0.038803   \n",
       "min           0.052630          0.019380        0.000000             0.000000   \n",
       "25%           0.086370          0.064920        0.029560             0.020310   \n",
       "50%           0.095870          0.092630        0.061540             0.033500   \n",
       "75%           0.105300          0.130400        0.130700             0.074000   \n",
       "max           0.163400          0.345400        0.426800             0.201200   \n",
       "\n",
       "       symmetry_mean  fractal_dimension_mean  ...  radius_worst  \\\n",
       "count     569.000000              569.000000  ...    569.000000   \n",
       "mean        0.181162                0.062798  ...     16.269190   \n",
       "std         0.027414                0.007060  ...      4.833242   \n",
       "min         0.106000                0.049960  ...      7.930000   \n",
       "25%         0.161900                0.057700  ...     13.010000   \n",
       "50%         0.179200                0.061540  ...     14.970000   \n",
       "75%         0.195700                0.066120  ...     18.790000   \n",
       "max         0.304000                0.097440  ...     36.040000   \n",
       "\n",
       "       texture_worst  perimeter_worst   area_worst  smoothness_worst  \\\n",
       "count     569.000000       569.000000   569.000000        569.000000   \n",
       "mean       25.677223       107.261213   880.583128          0.132369   \n",
       "std         6.146258        33.602542   569.356993          0.022832   \n",
       "min        12.020000        50.410000   185.200000          0.071170   \n",
       "25%        21.080000        84.110000   515.300000          0.116600   \n",
       "50%        25.410000        97.660000   686.500000          0.131300   \n",
       "75%        29.720000       125.400000  1084.000000          0.146000   \n",
       "max        49.540000       251.200000  4254.000000          0.222600   \n",
       "\n",
       "       compactness_worst  concavity_worst  concave points_worst  \\\n",
       "count         569.000000       569.000000            569.000000   \n",
       "mean            0.254265         0.272188              0.114606   \n",
       "std             0.157336         0.208624              0.065732   \n",
       "min             0.027290         0.000000              0.000000   \n",
       "25%             0.147200         0.114500              0.064930   \n",
       "50%             0.211900         0.226700              0.099930   \n",
       "75%             0.339100         0.382900              0.161400   \n",
       "max             1.058000         1.252000              0.291000   \n",
       "\n",
       "       symmetry_worst  fractal_dimension_worst  \n",
       "count      569.000000               569.000000  \n",
       "mean         0.290076                 0.083946  \n",
       "std          0.061867                 0.018061  \n",
       "min          0.156500                 0.055040  \n",
       "25%          0.250400                 0.071460  \n",
       "50%          0.282200                 0.080040  \n",
       "75%          0.317900                 0.092080  \n",
       "max          0.663800                 0.207500  \n",
       "\n",
       "[8 rows x 30 columns]"
      ]
     },
     "execution_count": 57,
     "metadata": {},
     "output_type": "execute_result"
    }
   ],
   "source": [
    "df.describe()"
   ]
  },
  {
   "cell_type": "code",
   "execution_count": 58,
   "metadata": {
    "colab": {
     "base_uri": "https://localhost:8080/"
    },
    "id": "aoOb2wBtwX3o",
    "outputId": "fa40a4e3-7721-4bec-d960-f870db1c4788"
   },
   "outputs": [
    {
     "name": "stdout",
     "output_type": "stream",
     "text": [
      "<class 'pandas.core.frame.DataFrame'>\n",
      "RangeIndex: 569 entries, 0 to 568\n",
      "Data columns (total 31 columns):\n",
      " #   Column                   Non-Null Count  Dtype  \n",
      "---  ------                   --------------  -----  \n",
      " 0   diagnosis                569 non-null    object \n",
      " 1   radius_mean              569 non-null    float64\n",
      " 2   texture_mean             569 non-null    float64\n",
      " 3   perimeter_mean           569 non-null    float64\n",
      " 4   area_mean                569 non-null    float64\n",
      " 5   smoothness_mean          569 non-null    float64\n",
      " 6   compactness_mean         569 non-null    float64\n",
      " 7   concavity_mean           569 non-null    float64\n",
      " 8   concave points_mean      569 non-null    float64\n",
      " 9   symmetry_mean            569 non-null    float64\n",
      " 10  fractal_dimension_mean   569 non-null    float64\n",
      " 11  radius_se                569 non-null    float64\n",
      " 12  texture_se               569 non-null    float64\n",
      " 13  perimeter_se             569 non-null    float64\n",
      " 14  area_se                  569 non-null    float64\n",
      " 15  smoothness_se            569 non-null    float64\n",
      " 16  compactness_se           569 non-null    float64\n",
      " 17  concavity_se             569 non-null    float64\n",
      " 18  concave points_se        569 non-null    float64\n",
      " 19  symmetry_se              569 non-null    float64\n",
      " 20  fractal_dimension_se     569 non-null    float64\n",
      " 21  radius_worst             569 non-null    float64\n",
      " 22  texture_worst            569 non-null    float64\n",
      " 23  perimeter_worst          569 non-null    float64\n",
      " 24  area_worst               569 non-null    float64\n",
      " 25  smoothness_worst         569 non-null    float64\n",
      " 26  compactness_worst        569 non-null    float64\n",
      " 27  concavity_worst          569 non-null    float64\n",
      " 28  concave points_worst     569 non-null    float64\n",
      " 29  symmetry_worst           569 non-null    float64\n",
      " 30  fractal_dimension_worst  569 non-null    float64\n",
      "dtypes: float64(30), object(1)\n",
      "memory usage: 137.9+ KB\n"
     ]
    }
   ],
   "source": [
    "df.info()"
   ]
  },
  {
   "cell_type": "code",
   "execution_count": 59,
   "metadata": {
    "colab": {
     "base_uri": "https://localhost:8080/"
    },
    "execution": {
     "iopub.execute_input": "2023-05-22T15:00:25.025225Z",
     "iopub.status.busy": "2023-05-22T15:00:25.024829Z",
     "iopub.status.idle": "2023-05-22T15:00:25.032845Z",
     "shell.execute_reply": "2023-05-22T15:00:25.031631Z",
     "shell.execute_reply.started": "2023-05-22T15:00:25.02519Z"
    },
    "id": "U_kZnKMtrPP4",
    "outputId": "5e725b78-c03a-4035-b75c-da421024074d"
   },
   "outputs": [
    {
     "data": {
      "text/plain": [
       "(569, 31)"
      ]
     },
     "execution_count": 59,
     "metadata": {},
     "output_type": "execute_result"
    }
   ],
   "source": [
    "df.shape"
   ]
  },
  {
   "cell_type": "markdown",
   "metadata": {
    "id": "WnqLk4lftD6t"
   },
   "source": [
    "We split our data into train (80%) and test (20%) using train_test_split"
   ]
  },
  {
   "cell_type": "code",
   "execution_count": 60,
   "metadata": {
    "execution": {
     "iopub.execute_input": "2023-05-22T15:02:51.460118Z",
     "iopub.status.busy": "2023-05-22T15:02:51.459684Z",
     "iopub.status.idle": "2023-05-22T15:02:51.467966Z",
     "shell.execute_reply": "2023-05-22T15:02:51.466804Z",
     "shell.execute_reply.started": "2023-05-22T15:02:51.460083Z"
    },
    "id": "7B3xqte7rPP4"
   },
   "outputs": [],
   "source": [
    "from sklearn.model_selection import train_test_split\n",
    "X_train, X_test, y_train, y_test = train_test_split(df.iloc[:,1:], df.iloc[:,0],test_size=0.2, random_state=2)"
   ]
  },
  {
   "cell_type": "code",
   "execution_count": 61,
   "metadata": {
    "colab": {
     "base_uri": "https://localhost:8080/",
     "height": 273
    },
    "execution": {
     "iopub.execute_input": "2023-05-22T15:03:00.993987Z",
     "iopub.status.busy": "2023-05-22T15:03:00.993478Z",
     "iopub.status.idle": "2023-05-22T15:03:01.030708Z",
     "shell.execute_reply": "2023-05-22T15:03:01.029644Z",
     "shell.execute_reply.started": "2023-05-22T15:03:00.993944Z"
    },
    "id": "VULUSdwGrPP5",
    "outputId": "7f34a937-856e-41cf-b8ed-e7e810813e64"
   },
   "outputs": [
    {
     "data": {
      "text/html": [
       "<div>\n",
       "<style scoped>\n",
       "    .dataframe tbody tr th:only-of-type {\n",
       "        vertical-align: middle;\n",
       "    }\n",
       "\n",
       "    .dataframe tbody tr th {\n",
       "        vertical-align: top;\n",
       "    }\n",
       "\n",
       "    .dataframe thead th {\n",
       "        text-align: right;\n",
       "    }\n",
       "</style>\n",
       "<table border=\"1\" class=\"dataframe\">\n",
       "  <thead>\n",
       "    <tr style=\"text-align: right;\">\n",
       "      <th></th>\n",
       "      <th>radius_mean</th>\n",
       "      <th>texture_mean</th>\n",
       "      <th>perimeter_mean</th>\n",
       "      <th>area_mean</th>\n",
       "      <th>smoothness_mean</th>\n",
       "      <th>compactness_mean</th>\n",
       "      <th>concavity_mean</th>\n",
       "      <th>concave points_mean</th>\n",
       "      <th>symmetry_mean</th>\n",
       "      <th>fractal_dimension_mean</th>\n",
       "      <th>...</th>\n",
       "      <th>radius_worst</th>\n",
       "      <th>texture_worst</th>\n",
       "      <th>perimeter_worst</th>\n",
       "      <th>area_worst</th>\n",
       "      <th>smoothness_worst</th>\n",
       "      <th>compactness_worst</th>\n",
       "      <th>concavity_worst</th>\n",
       "      <th>concave points_worst</th>\n",
       "      <th>symmetry_worst</th>\n",
       "      <th>fractal_dimension_worst</th>\n",
       "    </tr>\n",
       "  </thead>\n",
       "  <tbody>\n",
       "    <tr>\n",
       "      <th>560</th>\n",
       "      <td>14.05</td>\n",
       "      <td>27.15</td>\n",
       "      <td>91.38</td>\n",
       "      <td>600.4</td>\n",
       "      <td>0.09929</td>\n",
       "      <td>0.11260</td>\n",
       "      <td>0.04462</td>\n",
       "      <td>0.04304</td>\n",
       "      <td>0.1537</td>\n",
       "      <td>0.06171</td>\n",
       "      <td>...</td>\n",
       "      <td>15.30</td>\n",
       "      <td>33.17</td>\n",
       "      <td>100.20</td>\n",
       "      <td>706.7</td>\n",
       "      <td>0.1241</td>\n",
       "      <td>0.22640</td>\n",
       "      <td>0.1326</td>\n",
       "      <td>0.10480</td>\n",
       "      <td>0.2250</td>\n",
       "      <td>0.08321</td>\n",
       "    </tr>\n",
       "    <tr>\n",
       "      <th>428</th>\n",
       "      <td>11.13</td>\n",
       "      <td>16.62</td>\n",
       "      <td>70.47</td>\n",
       "      <td>381.1</td>\n",
       "      <td>0.08151</td>\n",
       "      <td>0.03834</td>\n",
       "      <td>0.01369</td>\n",
       "      <td>0.01370</td>\n",
       "      <td>0.1511</td>\n",
       "      <td>0.06148</td>\n",
       "      <td>...</td>\n",
       "      <td>11.68</td>\n",
       "      <td>20.29</td>\n",
       "      <td>74.35</td>\n",
       "      <td>421.1</td>\n",
       "      <td>0.1030</td>\n",
       "      <td>0.06219</td>\n",
       "      <td>0.0458</td>\n",
       "      <td>0.04044</td>\n",
       "      <td>0.2383</td>\n",
       "      <td>0.07083</td>\n",
       "    </tr>\n",
       "    <tr>\n",
       "      <th>198</th>\n",
       "      <td>19.18</td>\n",
       "      <td>22.49</td>\n",
       "      <td>127.50</td>\n",
       "      <td>1148.0</td>\n",
       "      <td>0.08523</td>\n",
       "      <td>0.14280</td>\n",
       "      <td>0.11140</td>\n",
       "      <td>0.06772</td>\n",
       "      <td>0.1767</td>\n",
       "      <td>0.05529</td>\n",
       "      <td>...</td>\n",
       "      <td>23.36</td>\n",
       "      <td>32.06</td>\n",
       "      <td>166.40</td>\n",
       "      <td>1688.0</td>\n",
       "      <td>0.1322</td>\n",
       "      <td>0.56010</td>\n",
       "      <td>0.3865</td>\n",
       "      <td>0.17080</td>\n",
       "      <td>0.3193</td>\n",
       "      <td>0.09221</td>\n",
       "    </tr>\n",
       "    <tr>\n",
       "      <th>203</th>\n",
       "      <td>13.81</td>\n",
       "      <td>23.75</td>\n",
       "      <td>91.56</td>\n",
       "      <td>597.8</td>\n",
       "      <td>0.13230</td>\n",
       "      <td>0.17680</td>\n",
       "      <td>0.15580</td>\n",
       "      <td>0.09176</td>\n",
       "      <td>0.2251</td>\n",
       "      <td>0.07421</td>\n",
       "      <td>...</td>\n",
       "      <td>19.20</td>\n",
       "      <td>41.85</td>\n",
       "      <td>128.50</td>\n",
       "      <td>1153.0</td>\n",
       "      <td>0.2226</td>\n",
       "      <td>0.52090</td>\n",
       "      <td>0.4646</td>\n",
       "      <td>0.20130</td>\n",
       "      <td>0.4432</td>\n",
       "      <td>0.10860</td>\n",
       "    </tr>\n",
       "    <tr>\n",
       "      <th>41</th>\n",
       "      <td>10.95</td>\n",
       "      <td>21.35</td>\n",
       "      <td>71.90</td>\n",
       "      <td>371.1</td>\n",
       "      <td>0.12270</td>\n",
       "      <td>0.12180</td>\n",
       "      <td>0.10440</td>\n",
       "      <td>0.05669</td>\n",
       "      <td>0.1895</td>\n",
       "      <td>0.06870</td>\n",
       "      <td>...</td>\n",
       "      <td>12.84</td>\n",
       "      <td>35.34</td>\n",
       "      <td>87.22</td>\n",
       "      <td>514.0</td>\n",
       "      <td>0.1909</td>\n",
       "      <td>0.26980</td>\n",
       "      <td>0.4023</td>\n",
       "      <td>0.14240</td>\n",
       "      <td>0.2964</td>\n",
       "      <td>0.09606</td>\n",
       "    </tr>\n",
       "  </tbody>\n",
       "</table>\n",
       "<p>5 rows × 30 columns</p>\n",
       "</div>"
      ],
      "text/plain": [
       "     radius_mean  texture_mean  perimeter_mean  area_mean  smoothness_mean  \\\n",
       "560        14.05         27.15           91.38      600.4          0.09929   \n",
       "428        11.13         16.62           70.47      381.1          0.08151   \n",
       "198        19.18         22.49          127.50     1148.0          0.08523   \n",
       "203        13.81         23.75           91.56      597.8          0.13230   \n",
       "41         10.95         21.35           71.90      371.1          0.12270   \n",
       "\n",
       "     compactness_mean  concavity_mean  concave points_mean  symmetry_mean  \\\n",
       "560           0.11260         0.04462              0.04304         0.1537   \n",
       "428           0.03834         0.01369              0.01370         0.1511   \n",
       "198           0.14280         0.11140              0.06772         0.1767   \n",
       "203           0.17680         0.15580              0.09176         0.2251   \n",
       "41            0.12180         0.10440              0.05669         0.1895   \n",
       "\n",
       "     fractal_dimension_mean  ...  radius_worst  texture_worst  \\\n",
       "560                 0.06171  ...         15.30          33.17   \n",
       "428                 0.06148  ...         11.68          20.29   \n",
       "198                 0.05529  ...         23.36          32.06   \n",
       "203                 0.07421  ...         19.20          41.85   \n",
       "41                  0.06870  ...         12.84          35.34   \n",
       "\n",
       "     perimeter_worst  area_worst  smoothness_worst  compactness_worst  \\\n",
       "560           100.20       706.7            0.1241            0.22640   \n",
       "428            74.35       421.1            0.1030            0.06219   \n",
       "198           166.40      1688.0            0.1322            0.56010   \n",
       "203           128.50      1153.0            0.2226            0.52090   \n",
       "41             87.22       514.0            0.1909            0.26980   \n",
       "\n",
       "     concavity_worst  concave points_worst  symmetry_worst  \\\n",
       "560           0.1326               0.10480          0.2250   \n",
       "428           0.0458               0.04044          0.2383   \n",
       "198           0.3865               0.17080          0.3193   \n",
       "203           0.4646               0.20130          0.4432   \n",
       "41            0.4023               0.14240          0.2964   \n",
       "\n",
       "     fractal_dimension_worst  \n",
       "560                  0.08321  \n",
       "428                  0.07083  \n",
       "198                  0.09221  \n",
       "203                  0.10860  \n",
       "41                   0.09606  \n",
       "\n",
       "[5 rows x 30 columns]"
      ]
     },
     "execution_count": 61,
     "metadata": {},
     "output_type": "execute_result"
    }
   ],
   "source": [
    "X_train.head()"
   ]
  },
  {
   "cell_type": "code",
   "execution_count": 62,
   "metadata": {
    "colab": {
     "base_uri": "https://localhost:8080/"
    },
    "execution": {
     "iopub.execute_input": "2023-05-22T15:03:14.510007Z",
     "iopub.status.busy": "2023-05-22T15:03:14.509647Z",
     "iopub.status.idle": "2023-05-22T15:03:14.516448Z",
     "shell.execute_reply": "2023-05-22T15:03:14.515372Z",
     "shell.execute_reply.started": "2023-05-22T15:03:14.509978Z"
    },
    "id": "JWdUWbIkrPP5",
    "outputId": "2210f165-c2a0-4e8f-d7a1-d9c5a9086e08"
   },
   "outputs": [
    {
     "data": {
      "text/plain": [
       "(455, 30)"
      ]
     },
     "execution_count": 62,
     "metadata": {},
     "output_type": "execute_result"
    }
   ],
   "source": [
    "X_train.shape"
   ]
  },
  {
   "cell_type": "markdown",
   "metadata": {
    "id": "uXcu4zpjsUZw"
   },
   "source": [
    "**Applying Feature Scaling**\n",
    "\n"
   ]
  },
  {
   "cell_type": "code",
   "execution_count": 63,
   "metadata": {
    "execution": {
     "iopub.execute_input": "2023-05-22T15:04:51.706999Z",
     "iopub.status.busy": "2023-05-22T15:04:51.706635Z",
     "iopub.status.idle": "2023-05-22T15:04:51.719642Z",
     "shell.execute_reply": "2023-05-22T15:04:51.718734Z",
     "shell.execute_reply.started": "2023-05-22T15:04:51.706971Z"
    },
    "id": "8eunr9dPrPP5"
   },
   "outputs": [],
   "source": [
    "from sklearn.preprocessing import StandardScaler\n",
    "\n",
    "scaler = StandardScaler()\n",
    "\n",
    "X_train = scaler.fit_transform(X_train)\n",
    "X_test = scaler.transform(X_test)"
   ]
  },
  {
   "cell_type": "code",
   "execution_count": 64,
   "metadata": {
    "colab": {
     "base_uri": "https://localhost:8080/"
    },
    "execution": {
     "iopub.execute_input": "2023-05-22T15:05:40.486195Z",
     "iopub.status.busy": "2023-05-22T15:05:40.485349Z",
     "iopub.status.idle": "2023-05-22T15:05:40.493009Z",
     "shell.execute_reply": "2023-05-22T15:05:40.491986Z",
     "shell.execute_reply.started": "2023-05-22T15:05:40.486156Z"
    },
    "id": "QOj53KeqrPP6",
    "outputId": "89c7930c-66f6-44aa-d286-bedf6a33d795"
   },
   "outputs": [
    {
     "data": {
      "text/plain": [
       "array([[-0.01330339,  1.7757658 , -0.01491962, ..., -0.13236958,\n",
       "        -1.08014517, -0.03527943],\n",
       "       [-0.8448276 , -0.6284278 , -0.87702746, ..., -1.11552632,\n",
       "        -0.85773964, -0.72098905],\n",
       "       [ 1.44755936,  0.71180168,  1.47428816, ...,  0.87583964,\n",
       "         0.4967602 ,  0.46321706],\n",
       "       ...,\n",
       "       [-0.46608541, -1.49375484, -0.53234924, ..., -1.32388956,\n",
       "        -1.02997851, -0.75145272],\n",
       "       [-0.50025764, -1.62161319, -0.527814  , ..., -0.0987626 ,\n",
       "         0.35796577, -0.43906159],\n",
       "       [ 0.96060511,  1.21181916,  1.00427242, ...,  0.8956983 ,\n",
       "        -1.23064515,  0.50697397]])"
      ]
     },
     "execution_count": 64,
     "metadata": {},
     "output_type": "execute_result"
    }
   ],
   "source": [
    "X_train"
   ]
  },
  {
   "cell_type": "code",
   "execution_count": 65,
   "metadata": {
    "colab": {
     "base_uri": "https://localhost:8080/"
    },
    "execution": {
     "iopub.execute_input": "2023-05-22T15:05:10.870092Z",
     "iopub.status.busy": "2023-05-22T15:05:10.869719Z",
     "iopub.status.idle": "2023-05-22T15:05:10.876996Z",
     "shell.execute_reply": "2023-05-22T15:05:10.875714Z",
     "shell.execute_reply.started": "2023-05-22T15:05:10.870063Z"
    },
    "id": "m2YDRHpurPP6",
    "outputId": "657c7ff7-9c9a-4e77-8edf-11295c6dad6d"
   },
   "outputs": [
    {
     "data": {
      "text/plain": [
       "(455, 30)"
      ]
     },
     "execution_count": 65,
     "metadata": {},
     "output_type": "execute_result"
    }
   ],
   "source": [
    "X_train.shape"
   ]
  },
  {
   "cell_type": "code",
   "execution_count": 66,
   "metadata": {
    "execution": {
     "iopub.execute_input": "2023-05-22T15:42:39.113836Z",
     "iopub.status.busy": "2023-05-22T15:42:39.112604Z",
     "iopub.status.idle": "2023-05-22T15:42:39.118681Z",
     "shell.execute_reply": "2023-05-22T15:42:39.117549Z",
     "shell.execute_reply.started": "2023-05-22T15:42:39.113782Z"
    },
    "id": "D9xu2TP8rPP7"
   },
   "outputs": [],
   "source": [
    "from sklearn.neighbors import KNeighborsClassifier\n",
    "\n",
    "knn = KNeighborsClassifier(n_neighbors=3)"
   ]
  },
  {
   "cell_type": "code",
   "execution_count": 67,
   "metadata": {
    "colab": {
     "base_uri": "https://localhost:8080/",
     "height": 74
    },
    "execution": {
     "iopub.execute_input": "2023-05-22T15:42:39.840739Z",
     "iopub.status.busy": "2023-05-22T15:42:39.84012Z",
     "iopub.status.idle": "2023-05-22T15:42:39.848814Z",
     "shell.execute_reply": "2023-05-22T15:42:39.847876Z",
     "shell.execute_reply.started": "2023-05-22T15:42:39.8407Z"
    },
    "id": "d_gPkE3lrPP8",
    "outputId": "c05b3113-1ef9-4f95-c765-b840f10ac5f7"
   },
   "outputs": [
    {
     "data": {
      "text/html": [
       "<style>#sk-container-id-4 {color: black;background-color: white;}#sk-container-id-4 pre{padding: 0;}#sk-container-id-4 div.sk-toggleable {background-color: white;}#sk-container-id-4 label.sk-toggleable__label {cursor: pointer;display: block;width: 100%;margin-bottom: 0;padding: 0.3em;box-sizing: border-box;text-align: center;}#sk-container-id-4 label.sk-toggleable__label-arrow:before {content: \"▸\";float: left;margin-right: 0.25em;color: #696969;}#sk-container-id-4 label.sk-toggleable__label-arrow:hover:before {color: black;}#sk-container-id-4 div.sk-estimator:hover label.sk-toggleable__label-arrow:before {color: black;}#sk-container-id-4 div.sk-toggleable__content {max-height: 0;max-width: 0;overflow: hidden;text-align: left;background-color: #f0f8ff;}#sk-container-id-4 div.sk-toggleable__content pre {margin: 0.2em;color: black;border-radius: 0.25em;background-color: #f0f8ff;}#sk-container-id-4 input.sk-toggleable__control:checked~div.sk-toggleable__content {max-height: 200px;max-width: 100%;overflow: auto;}#sk-container-id-4 input.sk-toggleable__control:checked~label.sk-toggleable__label-arrow:before {content: \"▾\";}#sk-container-id-4 div.sk-estimator input.sk-toggleable__control:checked~label.sk-toggleable__label {background-color: #d4ebff;}#sk-container-id-4 div.sk-label input.sk-toggleable__control:checked~label.sk-toggleable__label {background-color: #d4ebff;}#sk-container-id-4 input.sk-hidden--visually {border: 0;clip: rect(1px 1px 1px 1px);clip: rect(1px, 1px, 1px, 1px);height: 1px;margin: -1px;overflow: hidden;padding: 0;position: absolute;width: 1px;}#sk-container-id-4 div.sk-estimator {font-family: monospace;background-color: #f0f8ff;border: 1px dotted black;border-radius: 0.25em;box-sizing: border-box;margin-bottom: 0.5em;}#sk-container-id-4 div.sk-estimator:hover {background-color: #d4ebff;}#sk-container-id-4 div.sk-parallel-item::after {content: \"\";width: 100%;border-bottom: 1px solid gray;flex-grow: 1;}#sk-container-id-4 div.sk-label:hover label.sk-toggleable__label {background-color: #d4ebff;}#sk-container-id-4 div.sk-serial::before {content: \"\";position: absolute;border-left: 1px solid gray;box-sizing: border-box;top: 0;bottom: 0;left: 50%;z-index: 0;}#sk-container-id-4 div.sk-serial {display: flex;flex-direction: column;align-items: center;background-color: white;padding-right: 0.2em;padding-left: 0.2em;position: relative;}#sk-container-id-4 div.sk-item {position: relative;z-index: 1;}#sk-container-id-4 div.sk-parallel {display: flex;align-items: stretch;justify-content: center;background-color: white;position: relative;}#sk-container-id-4 div.sk-item::before, #sk-container-id-4 div.sk-parallel-item::before {content: \"\";position: absolute;border-left: 1px solid gray;box-sizing: border-box;top: 0;bottom: 0;left: 50%;z-index: -1;}#sk-container-id-4 div.sk-parallel-item {display: flex;flex-direction: column;z-index: 1;position: relative;background-color: white;}#sk-container-id-4 div.sk-parallel-item:first-child::after {align-self: flex-end;width: 50%;}#sk-container-id-4 div.sk-parallel-item:last-child::after {align-self: flex-start;width: 50%;}#sk-container-id-4 div.sk-parallel-item:only-child::after {width: 0;}#sk-container-id-4 div.sk-dashed-wrapped {border: 1px dashed gray;margin: 0 0.4em 0.5em 0.4em;box-sizing: border-box;padding-bottom: 0.4em;background-color: white;}#sk-container-id-4 div.sk-label label {font-family: monospace;font-weight: bold;display: inline-block;line-height: 1.2em;}#sk-container-id-4 div.sk-label-container {text-align: center;}#sk-container-id-4 div.sk-container {/* jupyter's `normalize.less` sets `[hidden] { display: none; }` but bootstrap.min.css set `[hidden] { display: none !important; }` so we also need the `!important` here to be able to override the default hidden behavior on the sphinx rendered scikit-learn.org. See: https://github.com/scikit-learn/scikit-learn/issues/21755 */display: inline-block !important;position: relative;}#sk-container-id-4 div.sk-text-repr-fallback {display: none;}</style><div id=\"sk-container-id-4\" class=\"sk-top-container\"><div class=\"sk-text-repr-fallback\"><pre>KNeighborsClassifier(n_neighbors=3)</pre><b>In a Jupyter environment, please rerun this cell to show the HTML representation or trust the notebook. <br />On GitHub, the HTML representation is unable to render, please try loading this page with nbviewer.org.</b></div><div class=\"sk-container\" hidden><div class=\"sk-item\"><div class=\"sk-estimator sk-toggleable\"><input class=\"sk-toggleable__control sk-hidden--visually\" id=\"sk-estimator-id-4\" type=\"checkbox\" checked><label for=\"sk-estimator-id-4\" class=\"sk-toggleable__label sk-toggleable__label-arrow\">KNeighborsClassifier</label><div class=\"sk-toggleable__content\"><pre>KNeighborsClassifier(n_neighbors=3)</pre></div></div></div></div></div>"
      ],
      "text/plain": [
       "KNeighborsClassifier(n_neighbors=3)"
      ]
     },
     "execution_count": 67,
     "metadata": {},
     "output_type": "execute_result"
    }
   ],
   "source": [
    "knn.fit(X_train,y_train)"
   ]
  },
  {
   "cell_type": "code",
   "execution_count": 68,
   "metadata": {
    "colab": {
     "base_uri": "https://localhost:8080/"
    },
    "execution": {
     "iopub.execute_input": "2023-05-22T15:42:40.781098Z",
     "iopub.status.busy": "2023-05-22T15:42:40.780391Z",
     "iopub.status.idle": "2023-05-22T15:42:40.803476Z",
     "shell.execute_reply": "2023-05-22T15:42:40.802332Z",
     "shell.execute_reply.started": "2023-05-22T15:42:40.78106Z"
    },
    "id": "yKVwQcO-rPP9",
    "outputId": "5fac603a-c4bc-4029-f0c0-8c56fdf15b1b"
   },
   "outputs": [
    {
     "data": {
      "text/plain": [
       "0.9912280701754386"
      ]
     },
     "execution_count": 68,
     "metadata": {},
     "output_type": "execute_result"
    }
   ],
   "source": [
    "from sklearn.metrics import accuracy_score\n",
    "\n",
    "y_pred = knn.predict(X_test)\n",
    "\n",
    "accuracy_score(y_test, y_pred)"
   ]
  },
  {
   "cell_type": "markdown",
   "metadata": {
    "id": "PudoLWX4tZYH"
   },
   "source": [
    "We calculate the accuracies for each all the k values from 1 to 16 to select the value of k to get highest accuracy.\n",
    "We got 16 by taking sqrt(no. of cases)"
   ]
  },
  {
   "cell_type": "code",
   "execution_count": 69,
   "metadata": {
    "execution": {
     "iopub.execute_input": "2023-05-22T15:09:32.432089Z",
     "iopub.status.busy": "2023-05-22T15:09:32.431699Z",
     "iopub.status.idle": "2023-05-22T15:09:32.539444Z",
     "shell.execute_reply": "2023-05-22T15:09:32.538388Z",
     "shell.execute_reply.started": "2023-05-22T15:09:32.432057Z"
    },
    "id": "qxe79vKgrPP9"
   },
   "outputs": [],
   "source": [
    "scores = []\n",
    "\n",
    "for i in range(1,16):\n",
    "\n",
    "    knn = KNeighborsClassifier(n_neighbors=i)\n",
    "\n",
    "    knn.fit(X_train,y_train)\n",
    "\n",
    "    y_pred = knn.predict(X_test)\n",
    "\n",
    "    scores.append(accuracy_score(y_test, y_pred))\n"
   ]
  },
  {
   "cell_type": "code",
   "execution_count": 70,
   "metadata": {
    "colab": {
     "base_uri": "https://localhost:8080/",
     "height": 447
    },
    "execution": {
     "iopub.execute_input": "2023-05-22T15:09:33.679172Z",
     "iopub.status.busy": "2023-05-22T15:09:33.678304Z",
     "iopub.status.idle": "2023-05-22T15:09:33.905979Z",
     "shell.execute_reply": "2023-05-22T15:09:33.904757Z",
     "shell.execute_reply.started": "2023-05-22T15:09:33.679131Z"
    },
    "id": "Y1jhlQpnrPP-",
    "outputId": "24794555-7c2d-40d8-f6f9-3926e96f4501"
   },
   "outputs": [
    {
     "data": {
      "text/plain": [
       "[<matplotlib.lines.Line2D at 0x14c1ef55450>]"
      ]
     },
     "execution_count": 70,
     "metadata": {},
     "output_type": "execute_result"
    },
    {
     "data": {
      "image/png": "[encoded data removed]",
      "text/plain": [
       "<Figure size 640x480 with 1 Axes>"
      ]
     },
     "metadata": {},
     "output_type": "display_data"
    }
   ],
   "source": [
    "import matplotlib.pyplot as plt ## We plot the accuracy Vs k\n",
    "plt.plot(range(1,16),scores)"
   ]
  },
  {
   "cell_type": "markdown",
   "metadata": {
    "id": "w2wttLGZuG7g"
   },
   "source": [
    "**We can observe that we get highest accuracy 99% at k = 3**"
   ]
  },
  {
   "cell_type": "markdown",
   "metadata": {
    "id": "G-wGhTZsuWRM"
   },
   "source": [
    "**Decision Boundary :**  \n",
    "The decision boundary in KNN is the imaginary line (or surface in higher dimensions) that separates data points belonging to different classes. It's defined by the k nearest neighbors of each point. A point is classified based on the majority class of its neighbors:\n",
    "\n",
    "**1.Distance Matters:** Points are assigned to the class that has the most neighbors within their defined \"k\" distance.  \n",
    "**2.Shifting Boundary:** As you move through the feature space, the nearest neighbors change, and so does the decision boundary, reflecting the changing dominance of different classes.  \n",
    "**3.Complexity with k:** A smaller \"k\" value can lead to a more complex, uneven decision boundary, while a larger \"k\" might create a smoother but potentially less accurate boundary"
   ]
  },
  {
   "cell_type": "code",
   "execution_count": 71,
   "metadata": {
    "colab": {
     "base_uri": "https://localhost:8080/",
     "height": 577,
     "referenced_widgets": [
      "b3c17510873a4b8aa77dd856df378d46",
      "28e3d40df864498da4f2c21bab2ecab8",
      "6859fc1918be4452954accb74e87068d",
      "437b08bdb52d4332b4787f458dc302d2",
      "e757947b41894caaa8f7883a8c83f2b0",
      "b25080761207492b88474d0e6b3bdb1e",
      "b24e41ffa2d2499a9e4e67bab9a714d7"
     ]
    },
    "execution": {
     "iopub.execute_input": "2023-05-23T02:30:03.156045Z",
     "iopub.status.busy": "2023-05-23T02:30:03.155673Z",
     "iopub.status.idle": "2023-05-23T02:30:12.521454Z",
     "shell.execute_reply": "2023-05-23T02:30:12.520628Z",
     "shell.execute_reply.started": "2023-05-23T02:30:03.156016Z"
    },
    "id": "F5uel8XcrPP-",
    "outputId": "d77b85a5-2182-4dfd-f6a3-143ee8d6dc3f"
   },
   "outputs": [
    {
     "data": {
      "application/vnd.jupyter.widget-view+json": {
       "model_id": "f983ded6f183472a93c897be6ead34ab",
       "version_major": 2,
       "version_minor": 0
      },
      "text/plain": [
       "interactive(children=(IntSlider(value=10, description='n_neighbors', max=20, min=1), Output()), _dom_classes=(…"
      ]
     },
     "metadata": {},
     "output_type": "display_data"
    }
   ],
   "source": [
    "import numpy as np\n",
    "import matplotlib.pyplot as plt\n",
    "from matplotlib.colors import ListedColormap\n",
    "from sklearn import neighbors, datasets\n",
    "from sklearn.preprocessing import StandardScaler\n",
    "from ipywidgets import interact, fixed\n",
    "\n",
    "def load_data():\n",
    "    cancer = datasets.load_breast_cancer()\n",
    "    return cancer\n",
    "\n",
    "def plot_decision_boundaries(n_neighbors, data, labels):\n",
    "    h = .02\n",
    "    cmap_light = ListedColormap(['orange', 'blue'])\n",
    "    cmap_bold = ListedColormap(['darkorange', 'darkblue'])\n",
    "\n",
    "    clf = neighbors.KNeighborsClassifier(n_neighbors)\n",
    "    clf.fit(data, labels)\n",
    "\n",
    "    x_min, x_max = data[:, 0].min() - 1, data[:, 0].max() + 1\n",
    "    y_min, y_max = data[:, 1].min() - 1, data[:, 1].max() + 1\n",
    "\n",
    "    xx, yy = np.meshgrid(np.arange(x_min, x_max, h), np.arange(y_min, y_max, h))\n",
    "    Z = clf.predict(np.c_[xx.ravel(), yy.ravel()])\n",
    "\n",
    "    Z = Z.reshape(xx.shape)\n",
    "    plt.figure(figsize=(8, 6))\n",
    "    plt.pcolormesh(xx, yy, Z, cmap=cmap_light)\n",
    "\n",
    "    plt.scatter(data[:, 0], data[:, 1], c=labels, cmap=cmap_bold, edgecolor='k', s=20)\n",
    "    plt.xlim(xx.min(), xx.max())\n",
    "    plt.ylim(yy.min(), yy.max())\n",
    "    plt.title(f'2-Class classification (k = {n_neighbors})')\n",
    "    plt.show()\n",
    "\n",
    "cancer = load_data()\n",
    "\n",
    "# Use only the first two features and standardize them.\n",
    "X = StandardScaler().fit_transform(cancer.data[:, :2])\n",
    "y = cancer.target\n",
    "\n",
    "# Interactive widget\n",
    "interact(plot_decision_boundaries, n_neighbors=(1, 20), data=fixed(X), labels=fixed(y));\n"
   ]
  },
  {
   "cell_type": "markdown",
   "metadata": {
    "id": "FPVONk5srPP-"
   },
   "source": [
    "# Naive Bayes"
   ]
  },
  {
   "cell_type": "code",
   "execution_count": 74,
   "metadata": {},
   "outputs": [
    {
     "data": {
      "text/html": [
       "<style>#sk-container-id-6 {color: black;background-color: white;}#sk-container-id-6 pre{padding: 0;}#sk-container-id-6 div.sk-toggleable {background-color: white;}#sk-container-id-6 label.sk-toggleable__label {cursor: pointer;display: block;width: 100%;margin-bottom: 0;padding: 0.3em;box-sizing: border-box;text-align: center;}#sk-container-id-6 label.sk-toggleable__label-arrow:before {content: \"▸\";float: left;margin-right: 0.25em;color: #696969;}#sk-container-id-6 label.sk-toggleable__label-arrow:hover:before {color: black;}#sk-container-id-6 div.sk-estimator:hover label.sk-toggleable__label-arrow:before {color: black;}#sk-container-id-6 div.sk-toggleable__content {max-height: 0;max-width: 0;overflow: hidden;text-align: left;background-color: #f0f8ff;}#sk-container-id-6 div.sk-toggleable__content pre {margin: 0.2em;color: black;border-radius: 0.25em;background-color: #f0f8ff;}#sk-container-id-6 input.sk-toggleable__control:checked~div.sk-toggleable__content {max-height: 200px;max-width: 100%;overflow: auto;}#sk-container-id-6 input.sk-toggleable__control:checked~label.sk-toggleable__label-arrow:before {content: \"▾\";}#sk-container-id-6 div.sk-estimator input.sk-toggleable__control:checked~label.sk-toggleable__label {background-color: #d4ebff;}#sk-container-id-6 div.sk-label input.sk-toggleable__control:checked~label.sk-toggleable__label {background-color: #d4ebff;}#sk-container-id-6 input.sk-hidden--visually {border: 0;clip: rect(1px 1px 1px 1px);clip: rect(1px, 1px, 1px, 1px);height: 1px;margin: -1px;overflow: hidden;padding: 0;position: absolute;width: 1px;}#sk-container-id-6 div.sk-estimator {font-family: monospace;background-color: #f0f8ff;border: 1px dotted black;border-radius: 0.25em;box-sizing: border-box;margin-bottom: 0.5em;}#sk-container-id-6 div.sk-estimator:hover {background-color: #d4ebff;}#sk-container-id-6 div.sk-parallel-item::after {content: \"\";width: 100%;border-bottom: 1px solid gray;flex-grow: 1;}#sk-container-id-6 div.sk-label:hover label.sk-toggleable__label {background-color: #d4ebff;}#sk-container-id-6 div.sk-serial::before {content: \"\";position: absolute;border-left: 1px solid gray;box-sizing: border-box;top: 0;bottom: 0;left: 50%;z-index: 0;}#sk-container-id-6 div.sk-serial {display: flex;flex-direction: column;align-items: center;background-color: white;padding-right: 0.2em;padding-left: 0.2em;position: relative;}#sk-container-id-6 div.sk-item {position: relative;z-index: 1;}#sk-container-id-6 div.sk-parallel {display: flex;align-items: stretch;justify-content: center;background-color: white;position: relative;}#sk-container-id-6 div.sk-item::before, #sk-container-id-6 div.sk-parallel-item::before {content: \"\";position: absolute;border-left: 1px solid gray;box-sizing: border-box;top: 0;bottom: 0;left: 50%;z-index: -1;}#sk-container-id-6 div.sk-parallel-item {display: flex;flex-direction: column;z-index: 1;position: relative;background-color: white;}#sk-container-id-6 div.sk-parallel-item:first-child::after {align-self: flex-end;width: 50%;}#sk-container-id-6 div.sk-parallel-item:last-child::after {align-self: flex-start;width: 50%;}#sk-container-id-6 div.sk-parallel-item:only-child::after {width: 0;}#sk-container-id-6 div.sk-dashed-wrapped {border: 1px dashed gray;margin: 0 0.4em 0.5em 0.4em;box-sizing: border-box;padding-bottom: 0.4em;background-color: white;}#sk-container-id-6 div.sk-label label {font-family: monospace;font-weight: bold;display: inline-block;line-height: 1.2em;}#sk-container-id-6 div.sk-label-container {text-align: center;}#sk-container-id-6 div.sk-container {/* jupyter's `normalize.less` sets `[hidden] { display: none; }` but bootstrap.min.css set `[hidden] { display: none !important; }` so we also need the `!important` here to be able to override the default hidden behavior on the sphinx rendered scikit-learn.org. See: https://github.com/scikit-learn/scikit-learn/issues/21755 */display: inline-block !important;position: relative;}#sk-container-id-6 div.sk-text-repr-fallback {display: none;}</style><div id=\"sk-container-id-6\" class=\"sk-top-container\"><div class=\"sk-text-repr-fallback\"><pre>GaussianNB()</pre><b>In a Jupyter environment, please rerun this cell to show the HTML representation or trust the notebook. <br />On GitHub, the HTML representation is unable to render, please try loading this page with nbviewer.org.</b></div><div class=\"sk-container\" hidden><div class=\"sk-item\"><div class=\"sk-estimator sk-toggleable\"><input class=\"sk-toggleable__control sk-hidden--visually\" id=\"sk-estimator-id-6\" type=\"checkbox\" checked><label for=\"sk-estimator-id-6\" class=\"sk-toggleable__label sk-toggleable__label-arrow\">GaussianNB</label><div class=\"sk-toggleable__content\"><pre>GaussianNB()</pre></div></div></div></div></div>"
      ],
      "text/plain": [
       "GaussianNB()"
      ]
     },
     "execution_count": 74,
     "metadata": {},
     "output_type": "execute_result"
    }
   ],
   "source": [
    "from sklearn.naive_bayes import GaussianNB\n",
    "\n",
    "gnb_without_pca =GaussianNB()\n",
    "gnb_without_pca.fit(X_train,y_train)"
   ]
  },
  {
   "cell_type": "code",
   "execution_count": 75,
   "metadata": {},
   "outputs": [
    {
     "name": "stdout",
     "output_type": "stream",
     "text": [
      "accuracy of naive bayes algorithm  0.9385964912280702\n"
     ]
    }
   ],
   "source": [
    "print(\"accuracy of naive bayes algorithm \",gnb_without_pca.score(X_test,y_test))"
   ]
  },
  {
   "cell_type": "code",
   "execution_count": 49,
   "metadata": {},
   "outputs": [
    {
     "data": {
      "image/png": "[encoded data removed]",
      "text/plain": [
       "<Figure size 640x480 with 1 Axes>"
      ]
     },
     "metadata": {},
     "output_type": "display_data"
    }
   ],
   "source": [
    "# Plotting decision regions\n",
    "x_min, x_max = X_pca[:, 0].min() - 1, X_pca[:, 0].max() + 1\n",
    "y_min, y_max = X_pca[:, 1].min() - 1, X_pca[:, 1].max() + 1\n",
    "\n",
    "xx, yy = np.meshgrid(np.arange(x_min, x_max, 0.1),\n",
    "                     np.arange(y_min, y_max, 0.1))\n",
    "\n",
    "Z = gnb.predict(np.c_[xx.ravel(), yy.ravel()])\n",
    "Z = Z.reshape(xx.shape)\n",
    "\n",
    "plt.contourf(xx, yy, Z, alpha=0.4)\n",
    "plt.scatter(X_pca[:, 0], X_pca[:, 1], c=y, s=20, edgecolor='k')\n",
    "plt.title('Decision Boundary of Naive Bayes (PCA applied)')\n",
    "plt.show()"
   ]
  },
  {
   "cell_type": "code",
   "execution_count": null,
   "metadata": {},
   "outputs": [],
   "source": []
  }
 ],
 "metadata": {
  "colab": {
   "provenance": []
  },
  "kaggle": {
   "accelerator": "none",
   "dataSources": [
    {
     "datasetId": 180,
     "sourceId": 408,
     "sourceType": "datasetVersion"
    }
   ],
   "dockerImageVersionId": 30474,
   "isGpuEnabled": false,
   "isInternetEnabled": true,
   "language": "python",
   "sourceType": "notebook"
  },
  "kernelspec": {
   "display_name": "Python 3 (ipykernel)",
   "language": "python",
   "name": "python3"
  },
  "language_info": {
   "codemirror_mode": {
    "name": "ipython",
    "version": 3
   },
   "file_extension": ".py",
   "mimetype": "text/x-python",
   "name": "python",
   "nbconvert_exporter": "python",
   "pygments_lexer": "ipython3",
   "version": "3.11.3"
  },
  "widgets": {
   "application/vnd.jupyter.widget-state+json": {
    "28e3d40df864498da4f2c21bab2ecab8": {
     "model_module": "@jupyter-widgets/controls",
     "model_module_version": "1.5.0",
     "model_name": "IntSliderModel",
     "state": {
      "_dom_classes": [],
      "_model_module": "@jupyter-widgets/controls",
      "_model_module_version": "1.5.0",
      "_model_name": "IntSliderModel",
      "_view_count": null,
      "_view_module": "@jupyter-widgets/controls",
      "_view_module_version": "1.5.0",
      "_view_name": "IntSliderView",
      "continuous_update": true,
      "description": "n_neighbors",
      "description_tooltip": null,
      "disabled": false,
      "layout": "IPY_MODEL_e757947b41894caaa8f7883a8c83f2b0",
      "max": 20,
      "min": 1,
      "orientation": "horizontal",
      "readout": true,
      "readout_format": "d",
      "step": 1,
      "style": "IPY_MODEL_b25080761207492b88474d0e6b3bdb1e",
      "value": 18
     }
    },
    "437b08bdb52d4332b4787f458dc302d2": {
     "model_module": "@jupyter-widgets/base",
     "model_module_version": "1.2.0",
     "model_name": "LayoutModel",
     "state": {
      "_model_module": "@jupyter-widgets/base",
      "_model_module_version": "1.2.0",
      "_model_name": "LayoutModel",
      "_view_count": null,
      "_view_module": "@jupyter-widgets/base",
      "_view_module_version": "1.2.0",
      "_view_name": "LayoutView",
      "align_content": null,
      "align_items": null,
      "align_self": null,
      "border": null,
      "bottom": null,
      "display": null,
      "flex": null,
      "flex_flow": null,
      "grid_area": null,
      "grid_auto_columns": null,
      "grid_auto_flow": null,
      "grid_auto_rows": null,
      "grid_column": null,
      "grid_gap": null,
      "grid_row": null,
      "grid_template_areas": null,
      "grid_template_columns": null,
      "grid_template_rows": null,
      "height": null,
      "justify_content": null,
      "justify_items": null,
      "left": null,
      "margin": null,
      "max_height": null,
      "max_width": null,
      "min_height": null,
      "min_width": null,
      "object_fit": null,
      "object_position": null,
      "order": null,
      "overflow": null,
      "overflow_x": null,
      "overflow_y": null,
      "padding": null,
      "right": null,
      "top": null,
      "visibility": null,
      "width": null
     }
    },
    "6859fc1918be4452954accb74e87068d": {
     "model_module": "@jupyter-widgets/output",
     "model_module_version": "1.0.0",
     "model_name": "OutputModel",
     "state": {
      "_dom_classes": [],
      "_model_module": "@jupyter-widgets/output",
      "_model_module_version": "1.0.0",
      "_model_name": "OutputModel",
      "_view_count": null,
      "_view_module": "@jupyter-widgets/output",
      "_view_module_version": "1.0.0",
      "_view_name": "OutputView",
      "layout": "IPY_MODEL_b24e41ffa2d2499a9e4e67bab9a714d7",
      "msg_id": "",
      "outputs": [
       {
        "data": {
         "image/png": "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\n",
         "text/plain": "<Figure size 800x600 with 1 Axes>"
        },
        "metadata": {},
        "output_type": "display_data"
       }
      ]
     }
    },
    "b24e41ffa2d2499a9e4e67bab9a714d7": {
     "model_module": "@jupyter-widgets/base",
     "model_module_version": "1.2.0",
     "model_name": "LayoutModel",
     "state": {
      "_model_module": "@jupyter-widgets/base",
      "_model_module_version": "1.2.0",
      "_model_name": "LayoutModel",
      "_view_count": null,
      "_view_module": "@jupyter-widgets/base",
      "_view_module_version": "1.2.0",
      "_view_name": "LayoutView",
      "align_content": null,
      "align_items": null,
      "align_self": null,
      "border": null,
      "bottom": null,
      "display": null,
      "flex": null,
      "flex_flow": null,
      "grid_area": null,
      "grid_auto_columns": null,
      "grid_auto_flow": null,
      "grid_auto_rows": null,
      "grid_column": null,
      "grid_gap": null,
      "grid_row": null,
      "grid_template_areas": null,
      "grid_template_columns": null,
      "grid_template_rows": null,
      "height": null,
      "justify_content": null,
      "justify_items": null,
      "left": null,
      "margin": null,
      "max_height": null,
      "max_width": null,
      "min_height": null,
      "min_width": null,
      "object_fit": null,
      "object_position": null,
      "order": null,
      "overflow": null,
      "overflow_x": null,
      "overflow_y": null,
      "padding": null,
      "right": null,
      "top": null,
      "visibility": null,
      "width": null
     }
    },
    "b25080761207492b88474d0e6b3bdb1e": {
     "model_module": "@jupyter-widgets/controls",
     "model_module_version": "1.5.0",
     "model_name": "SliderStyleModel",
     "state": {
      "_model_module": "@jupyter-widgets/controls",
      "_model_module_version": "1.5.0",
      "_model_name": "SliderStyleModel",
      "_view_count": null,
      "_view_module": "@jupyter-widgets/base",
      "_view_module_version": "1.2.0",
      "_view_name": "StyleView",
      "description_width": "",
      "handle_color": null
     }
    },
    "b3c17510873a4b8aa77dd856df378d46": {
     "model_module": "@jupyter-widgets/controls",
     "model_module_version": "1.5.0",
     "model_name": "VBoxModel",
     "state": {
      "_dom_classes": [
       "widget-interact"
      ],
      "_model_module": "@jupyter-widgets/controls",
      "_model_module_version": "1.5.0",
      "_model_name": "VBoxModel",
      "_view_count": null,
      "_view_module": "@jupyter-widgets/controls",
      "_view_module_version": "1.5.0",
      "_view_name": "VBoxView",
      "box_style": "",
      "children": [
       "IPY_MODEL_28e3d40df864498da4f2c21bab2ecab8",
       "IPY_MODEL_6859fc1918be4452954accb74e87068d"
      ],
      "layout": "IPY_MODEL_437b08bdb52d4332b4787f458dc302d2"
     }
    },
    "e757947b41894caaa8f7883a8c83f2b0": {
     "model_module": "@jupyter-widgets/base",
     "model_module_version": "1.2.0",
     "model_name": "LayoutModel",
     "state": {
      "_model_module": "@jupyter-widgets/base",
      "_model_module_version": "1.2.0",
      "_model_name": "LayoutModel",
      "_view_count": null,
      "_view_module": "@jupyter-widgets/base",
      "_view_module_version": "1.2.0",
      "_view_name": "LayoutView",
      "align_content": null,
      "align_items": null,
      "align_self": null,
      "border": null,
      "bottom": null,
      "display": null,
      "flex": null,
      "flex_flow": null,
      "grid_area": null,
      "grid_auto_columns": null,
      "grid_auto_flow": null,
      "grid_auto_rows": null,
      "grid_column": null,
      "grid_gap": null,
      "grid_row": null,
      "grid_template_areas": null,
      "grid_template_columns": null,
      "grid_template_rows": null,
      "height": null,
      "justify_content": null,
      "justify_items": null,
      "left": null,
      "margin": null,
      "max_height": null,
      "max_width": null,
      "min_height": null,
      "min_width": null,
      "object_fit": null,
      "object_position": null,
      "order": null,
      "overflow": null,
      "overflow_x": null,
      "overflow_y": null,
      "padding": null,
      "right": null,
      "top": null,
      "visibility": null,
      "width": null
     }
    }
   }
  }
 },
 "nbformat": 4,
 "nbformat_minor": 1
}
